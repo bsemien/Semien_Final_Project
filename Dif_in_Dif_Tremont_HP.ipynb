{
 "cells": [
  {
   "cell_type": "code",
   "execution_count": 1,
   "id": "8ef4fa51",
   "metadata": {},
   "outputs": [],
   "source": [
    "import numpy as np\n",
    "import pandas as pd"
   ]
  },
  {
   "cell_type": "code",
   "execution_count": 69,
   "id": "e3894458",
   "metadata": {},
   "outputs": [],
   "source": [
    "data=pd.read_csv(\"DiD_Data02.csv\")"
   ]
  },
  {
   "cell_type": "code",
   "execution_count": 70,
   "id": "82c8e440",
   "metadata": {},
   "outputs": [
    {
     "data": {
      "text/html": [
       "<div>\n",
       "<style scoped>\n",
       "    .dataframe tbody tr th:only-of-type {\n",
       "        vertical-align: middle;\n",
       "    }\n",
       "\n",
       "    .dataframe tbody tr th {\n",
       "        vertical-align: top;\n",
       "    }\n",
       "\n",
       "    .dataframe thead th {\n",
       "        text-align: right;\n",
       "    }\n",
       "</style>\n",
       "<table border=\"1\" class=\"dataframe\">\n",
       "  <thead>\n",
       "    <tr style=\"text-align: right;\">\n",
       "      <th></th>\n",
       "      <th>Region</th>\n",
       "      <th>Month</th>\n",
       "      <th>Y</th>\n",
       "      <th>time</th>\n",
       "      <th>treated</th>\n",
       "      <th>DID</th>\n",
       "      <th>NYHPI</th>\n",
       "      <th>lnY</th>\n",
       "    </tr>\n",
       "  </thead>\n",
       "  <tbody>\n",
       "    <tr>\n",
       "      <th>0</th>\n",
       "      <td>Tremont</td>\n",
       "      <td>1/31/14</td>\n",
       "      <td>330287</td>\n",
       "      <td>0</td>\n",
       "      <td>1</td>\n",
       "      <td>0</td>\n",
       "      <td>560.89</td>\n",
       "      <td>12.707717</td>\n",
       "    </tr>\n",
       "    <tr>\n",
       "      <th>1</th>\n",
       "      <td>Tremont</td>\n",
       "      <td>2/28/14</td>\n",
       "      <td>330670</td>\n",
       "      <td>0</td>\n",
       "      <td>1</td>\n",
       "      <td>0</td>\n",
       "      <td>560.89</td>\n",
       "      <td>12.708876</td>\n",
       "    </tr>\n",
       "    <tr>\n",
       "      <th>2</th>\n",
       "      <td>Tremont</td>\n",
       "      <td>3/31/14</td>\n",
       "      <td>331483</td>\n",
       "      <td>0</td>\n",
       "      <td>1</td>\n",
       "      <td>0</td>\n",
       "      <td>560.89</td>\n",
       "      <td>12.711332</td>\n",
       "    </tr>\n",
       "    <tr>\n",
       "      <th>3</th>\n",
       "      <td>Tremont</td>\n",
       "      <td>4/30/14</td>\n",
       "      <td>331971</td>\n",
       "      <td>0</td>\n",
       "      <td>1</td>\n",
       "      <td>0</td>\n",
       "      <td>566.50</td>\n",
       "      <td>12.712803</td>\n",
       "    </tr>\n",
       "    <tr>\n",
       "      <th>4</th>\n",
       "      <td>Tremont</td>\n",
       "      <td>5/31/14</td>\n",
       "      <td>332009</td>\n",
       "      <td>0</td>\n",
       "      <td>1</td>\n",
       "      <td>0</td>\n",
       "      <td>566.50</td>\n",
       "      <td>12.712917</td>\n",
       "    </tr>\n",
       "    <tr>\n",
       "      <th>5</th>\n",
       "      <td>Tremont</td>\n",
       "      <td>6/30/14</td>\n",
       "      <td>332288</td>\n",
       "      <td>0</td>\n",
       "      <td>1</td>\n",
       "      <td>0</td>\n",
       "      <td>566.50</td>\n",
       "      <td>12.713757</td>\n",
       "    </tr>\n",
       "    <tr>\n",
       "      <th>6</th>\n",
       "      <td>Tremont</td>\n",
       "      <td>7/31/14</td>\n",
       "      <td>333929</td>\n",
       "      <td>0</td>\n",
       "      <td>1</td>\n",
       "      <td>0</td>\n",
       "      <td>574.93</td>\n",
       "      <td>12.718684</td>\n",
       "    </tr>\n",
       "    <tr>\n",
       "      <th>7</th>\n",
       "      <td>Tremont</td>\n",
       "      <td>8/31/14</td>\n",
       "      <td>334239</td>\n",
       "      <td>0</td>\n",
       "      <td>1</td>\n",
       "      <td>0</td>\n",
       "      <td>574.93</td>\n",
       "      <td>12.719612</td>\n",
       "    </tr>\n",
       "    <tr>\n",
       "      <th>8</th>\n",
       "      <td>Tremont</td>\n",
       "      <td>9/30/14</td>\n",
       "      <td>332756</td>\n",
       "      <td>0</td>\n",
       "      <td>1</td>\n",
       "      <td>0</td>\n",
       "      <td>574.93</td>\n",
       "      <td>12.715165</td>\n",
       "    </tr>\n",
       "    <tr>\n",
       "      <th>9</th>\n",
       "      <td>Tremont</td>\n",
       "      <td>10/31/14</td>\n",
       "      <td>329277</td>\n",
       "      <td>0</td>\n",
       "      <td>1</td>\n",
       "      <td>0</td>\n",
       "      <td>578.17</td>\n",
       "      <td>12.704655</td>\n",
       "    </tr>\n",
       "  </tbody>\n",
       "</table>\n",
       "</div>"
      ],
      "text/plain": [
       "    Region     Month       Y  time  treated  DID   NYHPI        lnY\n",
       "0  Tremont   1/31/14  330287     0        1    0  560.89  12.707717\n",
       "1  Tremont   2/28/14  330670     0        1    0  560.89  12.708876\n",
       "2  Tremont   3/31/14  331483     0        1    0  560.89  12.711332\n",
       "3  Tremont   4/30/14  331971     0        1    0  566.50  12.712803\n",
       "4  Tremont   5/31/14  332009     0        1    0  566.50  12.712917\n",
       "5  Tremont   6/30/14  332288     0        1    0  566.50  12.713757\n",
       "6  Tremont   7/31/14  333929     0        1    0  574.93  12.718684\n",
       "7  Tremont   8/31/14  334239     0        1    0  574.93  12.719612\n",
       "8  Tremont   9/30/14  332756     0        1    0  574.93  12.715165\n",
       "9  Tremont  10/31/14  329277     0        1    0  578.17  12.704655"
      ]
     },
     "execution_count": 70,
     "metadata": {},
     "output_type": "execute_result"
    }
   ],
   "source": [
    "data.head(10)"
   ]
  },
  {
   "cell_type": "code",
   "execution_count": 71,
   "id": "dc926f19",
   "metadata": {
    "scrolled": true
   },
   "outputs": [
    {
     "data": {
      "text/html": [
       "<div>\n",
       "<style scoped>\n",
       "    .dataframe tbody tr th:only-of-type {\n",
       "        vertical-align: middle;\n",
       "    }\n",
       "\n",
       "    .dataframe tbody tr th {\n",
       "        vertical-align: top;\n",
       "    }\n",
       "\n",
       "    .dataframe thead th {\n",
       "        text-align: right;\n",
       "    }\n",
       "</style>\n",
       "<table border=\"1\" class=\"dataframe\">\n",
       "  <thead>\n",
       "    <tr style=\"text-align: right;\">\n",
       "      <th></th>\n",
       "      <th>Region</th>\n",
       "      <th>Month</th>\n",
       "      <th>Y</th>\n",
       "      <th>time</th>\n",
       "      <th>treated</th>\n",
       "      <th>DID</th>\n",
       "      <th>NYHPI</th>\n",
       "      <th>lnY</th>\n",
       "    </tr>\n",
       "  </thead>\n",
       "  <tbody>\n",
       "    <tr>\n",
       "      <th>188</th>\n",
       "      <td>Wakefield</td>\n",
       "      <td>6/30/21</td>\n",
       "      <td>525051</td>\n",
       "      <td>1</td>\n",
       "      <td>0</td>\n",
       "      <td>0</td>\n",
       "      <td>797.68</td>\n",
       "      <td>13.171251</td>\n",
       "    </tr>\n",
       "    <tr>\n",
       "      <th>189</th>\n",
       "      <td>Wakefield</td>\n",
       "      <td>7/31/21</td>\n",
       "      <td>526878</td>\n",
       "      <td>1</td>\n",
       "      <td>0</td>\n",
       "      <td>0</td>\n",
       "      <td>838.79</td>\n",
       "      <td>13.174724</td>\n",
       "    </tr>\n",
       "    <tr>\n",
       "      <th>190</th>\n",
       "      <td>Wakefield</td>\n",
       "      <td>8/31/21</td>\n",
       "      <td>531795</td>\n",
       "      <td>1</td>\n",
       "      <td>0</td>\n",
       "      <td>0</td>\n",
       "      <td>838.79</td>\n",
       "      <td>13.184013</td>\n",
       "    </tr>\n",
       "    <tr>\n",
       "      <th>191</th>\n",
       "      <td>Wakefield</td>\n",
       "      <td>9/30/21</td>\n",
       "      <td>535157</td>\n",
       "      <td>1</td>\n",
       "      <td>0</td>\n",
       "      <td>0</td>\n",
       "      <td>838.79</td>\n",
       "      <td>13.190315</td>\n",
       "    </tr>\n",
       "    <tr>\n",
       "      <th>192</th>\n",
       "      <td>Wakefield</td>\n",
       "      <td>10/31/21</td>\n",
       "      <td>539281</td>\n",
       "      <td>1</td>\n",
       "      <td>0</td>\n",
       "      <td>0</td>\n",
       "      <td>857.97</td>\n",
       "      <td>13.197992</td>\n",
       "    </tr>\n",
       "    <tr>\n",
       "      <th>193</th>\n",
       "      <td>Wakefield</td>\n",
       "      <td>11/30/21</td>\n",
       "      <td>542000</td>\n",
       "      <td>1</td>\n",
       "      <td>0</td>\n",
       "      <td>0</td>\n",
       "      <td>857.97</td>\n",
       "      <td>13.203021</td>\n",
       "    </tr>\n",
       "    <tr>\n",
       "      <th>194</th>\n",
       "      <td>Wakefield</td>\n",
       "      <td>12/31/21</td>\n",
       "      <td>544758</td>\n",
       "      <td>1</td>\n",
       "      <td>0</td>\n",
       "      <td>0</td>\n",
       "      <td>857.97</td>\n",
       "      <td>13.208097</td>\n",
       "    </tr>\n",
       "    <tr>\n",
       "      <th>195</th>\n",
       "      <td>Wakefield</td>\n",
       "      <td>1/31/22</td>\n",
       "      <td>547607</td>\n",
       "      <td>1</td>\n",
       "      <td>0</td>\n",
       "      <td>0</td>\n",
       "      <td>857.97</td>\n",
       "      <td>13.213313</td>\n",
       "    </tr>\n",
       "    <tr>\n",
       "      <th>196</th>\n",
       "      <td>Wakefield</td>\n",
       "      <td>2/28/22</td>\n",
       "      <td>550990</td>\n",
       "      <td>1</td>\n",
       "      <td>0</td>\n",
       "      <td>0</td>\n",
       "      <td>857.97</td>\n",
       "      <td>13.219472</td>\n",
       "    </tr>\n",
       "    <tr>\n",
       "      <th>197</th>\n",
       "      <td>Wakefield</td>\n",
       "      <td>3/31/22</td>\n",
       "      <td>555298</td>\n",
       "      <td>1</td>\n",
       "      <td>0</td>\n",
       "      <td>0</td>\n",
       "      <td>857.97</td>\n",
       "      <td>13.227260</td>\n",
       "    </tr>\n",
       "  </tbody>\n",
       "</table>\n",
       "</div>"
      ],
      "text/plain": [
       "        Region     Month       Y  time  treated  DID   NYHPI        lnY\n",
       "188  Wakefield   6/30/21  525051     1        0    0  797.68  13.171251\n",
       "189  Wakefield   7/31/21  526878     1        0    0  838.79  13.174724\n",
       "190  Wakefield   8/31/21  531795     1        0    0  838.79  13.184013\n",
       "191  Wakefield   9/30/21  535157     1        0    0  838.79  13.190315\n",
       "192  Wakefield  10/31/21  539281     1        0    0  857.97  13.197992\n",
       "193  Wakefield  11/30/21  542000     1        0    0  857.97  13.203021\n",
       "194  Wakefield  12/31/21  544758     1        0    0  857.97  13.208097\n",
       "195  Wakefield   1/31/22  547607     1        0    0  857.97  13.213313\n",
       "196  Wakefield   2/28/22  550990     1        0    0  857.97  13.219472\n",
       "197  Wakefield   3/31/22  555298     1        0    0  857.97  13.227260"
      ]
     },
     "execution_count": 71,
     "metadata": {},
     "output_type": "execute_result"
    }
   ],
   "source": [
    "data.tail(10)"
   ]
  },
  {
   "cell_type": "code",
   "execution_count": 10,
   "id": "dfeb1370",
   "metadata": {},
   "outputs": [
    {
     "name": "stdout",
     "output_type": "stream",
     "text": [
      "Requirement already satisfied: stargazer in /Users/brendansemien/opt/anaconda3/lib/python3.9/site-packages (0.0.5)\r\n"
     ]
    }
   ],
   "source": [
    "import statsmodels.formula.api as smf\n",
    "from IPython.core.display import HTML\n",
    "import sys\n",
    "!{sys.executable} -m pip install stargazer\n",
    "from stargazer.stargazer import Stargazer"
   ]
  },
  {
   "cell_type": "code",
   "execution_count": 72,
   "id": "bb22ea99",
   "metadata": {
    "scrolled": true
   },
   "outputs": [
    {
     "name": "stdout",
     "output_type": "stream",
     "text": [
      "                            OLS Regression Results                            \n",
      "==============================================================================\n",
      "Dep. Variable:                      Y   R-squared:                       0.908\n",
      "Model:                            OLS   Adj. R-squared:                  0.906\n",
      "Method:                 Least Squares   F-statistic:                     473.8\n",
      "Date:                Thu, 05 May 2022   Prob (F-statistic):           1.40e-98\n",
      "Time:                        23:58:24   Log-Likelihood:                -2242.5\n",
      "No. Observations:                 198   AIC:                             4495.\n",
      "Df Residuals:                     193   BIC:                             4511.\n",
      "Df Model:                           4                                         \n",
      "Covariance Type:            nonrobust                                         \n",
      "==============================================================================\n",
      "                 coef    std err          t      P>|t|      [0.025      0.975]\n",
      "------------------------------------------------------------------------------\n",
      "Intercept  -3.437e+04   1.93e+04     -1.784      0.076   -7.24e+04    3638.214\n",
      "time        1732.3669   6500.849      0.266      0.790   -1.11e+04    1.46e+04\n",
      "treated    -1.984e+04   3411.008     -5.815      0.000   -2.66e+04   -1.31e+04\n",
      "DID          1.61e+04   6413.887      2.511      0.013    3454.029    2.88e+04\n",
      "NYHPI        700.3105     30.422     23.020      0.000     640.309     760.312\n",
      "==============================================================================\n",
      "Omnibus:                       11.595   Durbin-Watson:                   0.127\n",
      "Prob(Omnibus):                  0.003   Jarque-Bera (JB):               12.459\n",
      "Skew:                           0.506   Prob(JB):                      0.00197\n",
      "Kurtosis:                       3.698   Cond. No.                     9.27e+03\n",
      "==============================================================================\n",
      "\n",
      "Notes:\n",
      "[1] Standard Errors assume that the covariance matrix of the errors is correctly specified.\n",
      "[2] The condition number is large, 9.27e+03. This might indicate that there are\n",
      "strong multicollinearity or other numerical problems.\n"
     ]
    }
   ],
   "source": [
    "DID01 = smf.ols(formula=\"Y ~ time + treated + DID + NYHPI\", data=data).fit()\n",
    "print(DID01.summary())"
   ]
  },
  {
   "cell_type": "code",
   "execution_count": 73,
   "id": "b9c54e5e",
   "metadata": {},
   "outputs": [
    {
     "name": "stdout",
     "output_type": "stream",
     "text": [
      "                            OLS Regression Results                            \n",
      "==============================================================================\n",
      "Dep. Variable:                    lnY   R-squared:                       0.888\n",
      "Model:                            OLS   Adj. R-squared:                  0.885\n",
      "Method:                 Least Squares   F-statistic:                     381.2\n",
      "Date:                Thu, 05 May 2022   Prob (F-statistic):           2.07e-90\n",
      "Time:                        23:59:14   Log-Likelihood:                 304.97\n",
      "No. Observations:                 198   AIC:                            -599.9\n",
      "Df Residuals:                     193   BIC:                            -583.5\n",
      "Df Model:                           4                                         \n",
      "Covariance Type:            nonrobust                                         \n",
      "==============================================================================\n",
      "                 coef    std err          t      P>|t|      [0.025      0.975]\n",
      "------------------------------------------------------------------------------\n",
      "Intercept     11.8384      0.050    237.692      0.000      11.740      11.937\n",
      "time          -0.0187      0.017     -1.114      0.267      -0.052       0.014\n",
      "treated       -0.0525      0.009     -5.950      0.000      -0.070      -0.035\n",
      "DID            0.0456      0.017      2.752      0.006       0.013       0.078\n",
      "NYHPI          0.0017   7.86e-05     21.654      0.000       0.002       0.002\n",
      "==============================================================================\n",
      "Omnibus:                        1.414   Durbin-Watson:                   0.108\n",
      "Prob(Omnibus):                  0.493   Jarque-Bera (JB):                1.191\n",
      "Skew:                           0.186   Prob(JB):                        0.551\n",
      "Kurtosis:                       3.072   Cond. No.                     9.27e+03\n",
      "==============================================================================\n",
      "\n",
      "Notes:\n",
      "[1] Standard Errors assume that the covariance matrix of the errors is correctly specified.\n",
      "[2] The condition number is large, 9.27e+03. This might indicate that there are\n",
      "strong multicollinearity or other numerical problems.\n"
     ]
    }
   ],
   "source": [
    "DIDLn01 = smf.ols(formula=\"lnY ~ time + treated + DID + NYHPI\", data=data).fit()\n",
    "print(DIDLn01.summary())"
   ]
  },
  {
   "cell_type": "code",
   "execution_count": 12,
   "id": "d9f6e95c",
   "metadata": {},
   "outputs": [],
   "source": [
    "TremontData=pd.read_csv(\"JT.csv\")"
   ]
  },
  {
   "cell_type": "code",
   "execution_count": 13,
   "id": "1d396492",
   "metadata": {},
   "outputs": [
    {
     "data": {
      "text/html": [
       "<div>\n",
       "<style scoped>\n",
       "    .dataframe tbody tr th:only-of-type {\n",
       "        vertical-align: middle;\n",
       "    }\n",
       "\n",
       "    .dataframe tbody tr th {\n",
       "        vertical-align: top;\n",
       "    }\n",
       "\n",
       "    .dataframe thead th {\n",
       "        text-align: right;\n",
       "    }\n",
       "</style>\n",
       "<table border=\"1\" class=\"dataframe\">\n",
       "  <thead>\n",
       "    <tr style=\"text-align: right;\">\n",
       "      <th></th>\n",
       "      <th>Y</th>\n",
       "      <th>time</th>\n",
       "      <th>treated</th>\n",
       "      <th>DID</th>\n",
       "      <th>NYHPI</th>\n",
       "    </tr>\n",
       "  </thead>\n",
       "  <tbody>\n",
       "    <tr>\n",
       "      <th>count</th>\n",
       "      <td>99.000000</td>\n",
       "      <td>99.000000</td>\n",
       "      <td>99.0</td>\n",
       "      <td>99.000000</td>\n",
       "      <td>99.000000</td>\n",
       "    </tr>\n",
       "    <tr>\n",
       "      <th>mean</th>\n",
       "      <td>421262.656566</td>\n",
       "      <td>0.282828</td>\n",
       "      <td>1.0</td>\n",
       "      <td>0.282828</td>\n",
       "      <td>671.732424</td>\n",
       "    </tr>\n",
       "    <tr>\n",
       "      <th>std</th>\n",
       "      <td>69981.527087</td>\n",
       "      <td>0.452666</td>\n",
       "      <td>0.0</td>\n",
       "      <td>0.452666</td>\n",
       "      <td>84.141121</td>\n",
       "    </tr>\n",
       "    <tr>\n",
       "      <th>min</th>\n",
       "      <td>317080.000000</td>\n",
       "      <td>0.000000</td>\n",
       "      <td>1.0</td>\n",
       "      <td>0.000000</td>\n",
       "      <td>560.890000</td>\n",
       "    </tr>\n",
       "    <tr>\n",
       "      <th>25%</th>\n",
       "      <td>358705.500000</td>\n",
       "      <td>0.000000</td>\n",
       "      <td>1.0</td>\n",
       "      <td>0.000000</td>\n",
       "      <td>597.550000</td>\n",
       "    </tr>\n",
       "    <tr>\n",
       "      <th>50%</th>\n",
       "      <td>413390.000000</td>\n",
       "      <td>0.000000</td>\n",
       "      <td>1.0</td>\n",
       "      <td>0.000000</td>\n",
       "      <td>658.620000</td>\n",
       "    </tr>\n",
       "    <tr>\n",
       "      <th>75%</th>\n",
       "      <td>493920.500000</td>\n",
       "      <td>1.000000</td>\n",
       "      <td>1.0</td>\n",
       "      <td>1.000000</td>\n",
       "      <td>719.080000</td>\n",
       "    </tr>\n",
       "    <tr>\n",
       "      <th>max</th>\n",
       "      <td>527860.000000</td>\n",
       "      <td>1.000000</td>\n",
       "      <td>1.0</td>\n",
       "      <td>1.000000</td>\n",
       "      <td>857.970000</td>\n",
       "    </tr>\n",
       "  </tbody>\n",
       "</table>\n",
       "</div>"
      ],
      "text/plain": [
       "                   Y       time  treated        DID       NYHPI\n",
       "count      99.000000  99.000000     99.0  99.000000   99.000000\n",
       "mean   421262.656566   0.282828      1.0   0.282828  671.732424\n",
       "std     69981.527087   0.452666      0.0   0.452666   84.141121\n",
       "min    317080.000000   0.000000      1.0   0.000000  560.890000\n",
       "25%    358705.500000   0.000000      1.0   0.000000  597.550000\n",
       "50%    413390.000000   0.000000      1.0   0.000000  658.620000\n",
       "75%    493920.500000   1.000000      1.0   1.000000  719.080000\n",
       "max    527860.000000   1.000000      1.0   1.000000  857.970000"
      ]
     },
     "execution_count": 13,
     "metadata": {},
     "output_type": "execute_result"
    }
   ],
   "source": [
    "TremontData.describe()"
   ]
  },
  {
   "cell_type": "code",
   "execution_count": 14,
   "id": "df3b9dc5",
   "metadata": {},
   "outputs": [],
   "source": [
    "WakefieldData=pd.read_csv(\"JW.csv\")"
   ]
  },
  {
   "cell_type": "code",
   "execution_count": 15,
   "id": "7f70c885",
   "metadata": {},
   "outputs": [
    {
     "data": {
      "text/html": [
       "<div>\n",
       "<style scoped>\n",
       "    .dataframe tbody tr th:only-of-type {\n",
       "        vertical-align: middle;\n",
       "    }\n",
       "\n",
       "    .dataframe tbody tr th {\n",
       "        vertical-align: top;\n",
       "    }\n",
       "\n",
       "    .dataframe thead th {\n",
       "        text-align: right;\n",
       "    }\n",
       "</style>\n",
       "<table border=\"1\" class=\"dataframe\">\n",
       "  <thead>\n",
       "    <tr style=\"text-align: right;\">\n",
       "      <th></th>\n",
       "      <th>Y</th>\n",
       "      <th>time</th>\n",
       "      <th>treated</th>\n",
       "      <th>DID</th>\n",
       "      <th>NYHPI</th>\n",
       "    </tr>\n",
       "  </thead>\n",
       "  <tbody>\n",
       "    <tr>\n",
       "      <th>count</th>\n",
       "      <td>99.000000</td>\n",
       "      <td>99.000000</td>\n",
       "      <td>99.0</td>\n",
       "      <td>99.0</td>\n",
       "      <td>99.000000</td>\n",
       "    </tr>\n",
       "    <tr>\n",
       "      <th>mean</th>\n",
       "      <td>436543.414141</td>\n",
       "      <td>0.282828</td>\n",
       "      <td>0.0</td>\n",
       "      <td>0.0</td>\n",
       "      <td>671.732424</td>\n",
       "    </tr>\n",
       "    <tr>\n",
       "      <th>std</th>\n",
       "      <td>61530.062450</td>\n",
       "      <td>0.452666</td>\n",
       "      <td>0.0</td>\n",
       "      <td>0.0</td>\n",
       "      <td>84.141121</td>\n",
       "    </tr>\n",
       "    <tr>\n",
       "      <th>min</th>\n",
       "      <td>352504.000000</td>\n",
       "      <td>0.000000</td>\n",
       "      <td>0.0</td>\n",
       "      <td>0.0</td>\n",
       "      <td>560.890000</td>\n",
       "    </tr>\n",
       "    <tr>\n",
       "      <th>25%</th>\n",
       "      <td>378179.000000</td>\n",
       "      <td>0.000000</td>\n",
       "      <td>0.0</td>\n",
       "      <td>0.0</td>\n",
       "      <td>597.550000</td>\n",
       "    </tr>\n",
       "    <tr>\n",
       "      <th>50%</th>\n",
       "      <td>437693.000000</td>\n",
       "      <td>0.000000</td>\n",
       "      <td>0.0</td>\n",
       "      <td>0.0</td>\n",
       "      <td>658.620000</td>\n",
       "    </tr>\n",
       "    <tr>\n",
       "      <th>75%</th>\n",
       "      <td>487525.500000</td>\n",
       "      <td>1.000000</td>\n",
       "      <td>0.0</td>\n",
       "      <td>0.0</td>\n",
       "      <td>719.080000</td>\n",
       "    </tr>\n",
       "    <tr>\n",
       "      <th>max</th>\n",
       "      <td>555298.000000</td>\n",
       "      <td>1.000000</td>\n",
       "      <td>0.0</td>\n",
       "      <td>0.0</td>\n",
       "      <td>857.970000</td>\n",
       "    </tr>\n",
       "  </tbody>\n",
       "</table>\n",
       "</div>"
      ],
      "text/plain": [
       "                   Y       time  treated   DID       NYHPI\n",
       "count      99.000000  99.000000     99.0  99.0   99.000000\n",
       "mean   436543.414141   0.282828      0.0   0.0  671.732424\n",
       "std     61530.062450   0.452666      0.0   0.0   84.141121\n",
       "min    352504.000000   0.000000      0.0   0.0  560.890000\n",
       "25%    378179.000000   0.000000      0.0   0.0  597.550000\n",
       "50%    437693.000000   0.000000      0.0   0.0  658.620000\n",
       "75%    487525.500000   1.000000      0.0   0.0  719.080000\n",
       "max    555298.000000   1.000000      0.0   0.0  857.970000"
      ]
     },
     "execution_count": 15,
     "metadata": {},
     "output_type": "execute_result"
    }
   ],
   "source": [
    "WakefieldData.describe()"
   ]
  },
  {
   "cell_type": "code",
   "execution_count": 16,
   "id": "6ec7bc1d",
   "metadata": {},
   "outputs": [
    {
     "name": "stdout",
     "output_type": "stream",
     "text": [
      "Requirement already satisfied: matplotlib in /Users/brendansemien/opt/anaconda3/lib/python3.9/site-packages (3.4.3)\n",
      "Requirement already satisfied: pyparsing>=2.2.1 in /Users/brendansemien/opt/anaconda3/lib/python3.9/site-packages (from matplotlib) (3.0.4)\n",
      "Requirement already satisfied: python-dateutil>=2.7 in /Users/brendansemien/opt/anaconda3/lib/python3.9/site-packages (from matplotlib) (2.8.2)\n",
      "Requirement already satisfied: kiwisolver>=1.0.1 in /Users/brendansemien/opt/anaconda3/lib/python3.9/site-packages (from matplotlib) (1.3.1)\n",
      "Requirement already satisfied: cycler>=0.10 in /Users/brendansemien/opt/anaconda3/lib/python3.9/site-packages (from matplotlib) (0.10.0)\n",
      "Requirement already satisfied: numpy>=1.16 in /Users/brendansemien/opt/anaconda3/lib/python3.9/site-packages (from matplotlib) (1.20.3)\n",
      "Requirement already satisfied: pillow>=6.2.0 in /Users/brendansemien/opt/anaconda3/lib/python3.9/site-packages (from matplotlib) (8.4.0)\n",
      "Requirement already satisfied: six in /Users/brendansemien/opt/anaconda3/lib/python3.9/site-packages (from cycler>=0.10->matplotlib) (1.16.0)\n",
      "Note: you may need to restart the kernel to use updated packages.\n"
     ]
    }
   ],
   "source": [
    "pip install matplotlib"
   ]
  },
  {
   "cell_type": "code",
   "execution_count": 17,
   "id": "33bca9b8",
   "metadata": {},
   "outputs": [],
   "source": [
    "import matplotlib.pyplot as plt"
   ]
  },
  {
   "cell_type": "code",
   "execution_count": 20,
   "id": "504d48c4",
   "metadata": {},
   "outputs": [],
   "source": [
    "HousP_W= WakefieldData['Y']"
   ]
  },
  {
   "cell_type": "code",
   "execution_count": 26,
   "id": "7c3edd6b",
   "metadata": {},
   "outputs": [],
   "source": [
    "HousP_T = TremontData['Y']"
   ]
  },
  {
   "cell_type": "code",
   "execution_count": 21,
   "id": "b0c488f1",
   "metadata": {},
   "outputs": [],
   "source": [
    "NYHPI = WakefieldData['NYHPI']"
   ]
  },
  {
   "cell_type": "code",
   "execution_count": 23,
   "id": "e89e6158",
   "metadata": {},
   "outputs": [],
   "source": [
    "Date = WakefieldData['Month']"
   ]
  },
  {
   "cell_type": "code",
   "execution_count": 25,
   "id": "3530d8dd",
   "metadata": {},
   "outputs": [
    {
     "data": {
      "image/png": "[encoded data removed]",
      "text/plain": [
       "<Figure size 432x288 with 1 Axes>"
      ]
     },
     "metadata": {
      "needs_background": "light"
     },
     "output_type": "display_data"
    }
   ],
   "source": [
    "Fig01 = plt.plot(Date, HousP_W)"
   ]
  },
  {
   "cell_type": "code",
   "execution_count": 28,
   "id": "6cc48a02",
   "metadata": {},
   "outputs": [
    {
     "data": {
      "image/png": "[encoded data removed]",
      "text/plain": [
       "<Figure size 432x288 with 1 Axes>"
      ]
     },
     "metadata": {
      "needs_background": "light"
     },
     "output_type": "display_data"
    }
   ],
   "source": [
    "Fig02 = plt.plot(Date, HousP_T)"
   ]
  },
  {
   "cell_type": "code",
   "execution_count": 29,
   "id": "1a925359",
   "metadata": {},
   "outputs": [
    {
     "data": {
      "image/png": "[encoded data removed]",
      "text/plain": [
       "<Figure size 432x288 with 1 Axes>"
      ]
     },
     "metadata": {
      "needs_background": "light"
     },
     "output_type": "display_data"
    }
   ],
   "source": [
    "Fig03 = plt.plot(Date, NYHPI)"
   ]
  },
  {
   "cell_type": "code",
   "execution_count": 31,
   "id": "dcf605dd",
   "metadata": {},
   "outputs": [
    {
     "data": {
      "image/png": "[encoded data removed]",
      "text/plain": [
       "<Figure size 432x288 with 1 Axes>"
      ]
     },
     "metadata": {
      "needs_background": "light"
     },
     "output_type": "display_data"
    }
   ],
   "source": [
    "Fig04 = plt.scatter(HousP_T, NYHPI)"
   ]
  },
  {
   "cell_type": "code",
   "execution_count": 32,
   "id": "9e4379af",
   "metadata": {},
   "outputs": [
    {
     "data": {
      "image/png": "[encoded data removed]",
      "text/plain": [
       "<Figure size 432x288 with 1 Axes>"
      ]
     },
     "metadata": {
      "needs_background": "light"
     },
     "output_type": "display_data"
    }
   ],
   "source": [
    "Fig05 = plt.scatter(HousP_W, NYHPI)"
   ]
  },
  {
   "cell_type": "code",
   "execution_count": 33,
   "id": "64c3fd4d",
   "metadata": {},
   "outputs": [],
   "source": [
    "import pandas as pd\n",
    "from scipy.stats import pearsonr"
   ]
  },
  {
   "cell_type": "code",
   "execution_count": 35,
   "id": "99628aee",
   "metadata": {},
   "outputs": [
    {
     "name": "stdout",
     "output_type": "stream",
     "text": [
      "Pearsons correlation: 0.927\n"
     ]
    }
   ],
   "source": [
    "corr, _ = pearsonr(HousP_T, NYHPI)\n",
    "print('Pearsons correlation: %.3f' % corr)"
   ]
  },
  {
   "cell_type": "code",
   "execution_count": 36,
   "id": "0bf7b773",
   "metadata": {},
   "outputs": [
    {
     "name": "stdout",
     "output_type": "stream",
     "text": [
      "Pearsons correlation: 0.979\n"
     ]
    }
   ],
   "source": [
    "corr, _ = pearsonr(HousP_W, NYHPI)\n",
    "print('Pearsons correlation: %.3f' % corr)"
   ]
  },
  {
   "cell_type": "code",
   "execution_count": 45,
   "id": "3660c898",
   "metadata": {},
   "outputs": [
    {
     "data": {
      "image/png": "[encoded data removed]",
      "text/plain": [
       "<Figure size 432x288 with 1 Axes>"
      ]
     },
     "metadata": {
      "needs_background": "light"
     },
     "output_type": "display_data"
    }
   ],
   "source": [
    "plt.plot(Date, HousP_W)\n",
    "plt.plot(Date, HousP_T)\n",
    "plt.axvline(x= 72, color = 'r')\n",
    "plt.axvline(x= 59, color = 'r')\n",
    "plt.show()"
   ]
  },
  {
   "cell_type": "code",
   "execution_count": 74,
   "id": "59b38fc7",
   "metadata": {},
   "outputs": [],
   "source": [
    "data_start=pd.read_csv(\"DID_START.csv\")"
   ]
  },
  {
   "cell_type": "code",
   "execution_count": 75,
   "id": "d6e00dcf",
   "metadata": {},
   "outputs": [
    {
     "name": "stdout",
     "output_type": "stream",
     "text": [
      "                            OLS Regression Results                            \n",
      "==============================================================================\n",
      "Dep. Variable:                      Y   R-squared:                       0.918\n",
      "Model:                            OLS   Adj. R-squared:                  0.917\n",
      "Method:                 Least Squares   F-statistic:                     542.1\n",
      "Date:                Fri, 06 May 2022   Prob (F-statistic):          9.95e-104\n",
      "Time:                        00:00:30   Log-Likelihood:                -2230.3\n",
      "No. Observations:                 198   AIC:                             4471.\n",
      "Df Residuals:                     193   BIC:                             4487.\n",
      "Df Model:                           4                                         \n",
      "Covariance Type:            nonrobust                                         \n",
      "==============================================================================\n",
      "                 coef    std err          t      P>|t|      [0.025      0.975]\n",
      "------------------------------------------------------------------------------\n",
      "Intercept   1.613e+04   1.78e+04      0.908      0.365   -1.89e+04    5.11e+04\n",
      "time        2.058e+04   5583.678      3.686      0.000    9566.830    3.16e+04\n",
      "treated    -2.061e+04   3579.965     -5.757      0.000   -2.77e+04   -1.35e+04\n",
      "DID         1.256e+04   5496.317      2.285      0.023    1720.854    2.34e+04\n",
      "NYHPI        612.8703     28.695     21.358      0.000     556.274     669.467\n",
      "==============================================================================\n",
      "Omnibus:                        6.927   Durbin-Watson:                   0.149\n",
      "Prob(Omnibus):                  0.031   Jarque-Bera (JB):                8.101\n",
      "Skew:                           0.280   Prob(JB):                       0.0174\n",
      "Kurtosis:                       3.818   Cond. No.                     9.04e+03\n",
      "==============================================================================\n",
      "\n",
      "Notes:\n",
      "[1] Standard Errors assume that the covariance matrix of the errors is correctly specified.\n",
      "[2] The condition number is large, 9.04e+03. This might indicate that there are\n",
      "strong multicollinearity or other numerical problems.\n"
     ]
    }
   ],
   "source": [
    "DID_START = smf.ols(formula=\"Y ~ time + treated + DID + NYHPI\", data=data_start).fit()\n",
    "print(DID_START.summary())"
   ]
  },
  {
   "cell_type": "code",
   "execution_count": 76,
   "id": "9a695829",
   "metadata": {},
   "outputs": [
    {
     "name": "stdout",
     "output_type": "stream",
     "text": [
      "                            OLS Regression Results                            \n",
      "==============================================================================\n",
      "Dep. Variable:                    lnY   R-squared:                       0.899\n",
      "Model:                            OLS   Adj. R-squared:                  0.897\n",
      "Method:                 Least Squares   F-statistic:                     431.3\n",
      "Date:                Fri, 06 May 2022   Prob (F-statistic):           5.00e-95\n",
      "Time:                        00:00:56   Log-Likelihood:                 315.89\n",
      "No. Observations:                 198   AIC:                            -621.8\n",
      "Df Residuals:                     193   BIC:                            -605.3\n",
      "Df Model:                           4                                         \n",
      "Covariance Type:            nonrobust                                         \n",
      "==============================================================================\n",
      "                 coef    std err          t      P>|t|      [0.025      0.975]\n",
      "------------------------------------------------------------------------------\n",
      "Intercept     12.0055      0.046    259.950      0.000      11.914      12.097\n",
      "time           0.0432      0.015      2.974      0.003       0.015       0.072\n",
      "treated       -0.0556      0.009     -5.966      0.000      -0.074      -0.037\n",
      "DID            0.0377      0.014      2.639      0.009       0.010       0.066\n",
      "NYHPI          0.0014   7.46e-05     19.008      0.000       0.001       0.002\n",
      "==============================================================================\n",
      "Omnibus:                        0.511   Durbin-Watson:                   0.118\n",
      "Prob(Omnibus):                  0.774   Jarque-Bera (JB):                0.650\n",
      "Skew:                           0.063   Prob(JB):                        0.723\n",
      "Kurtosis:                       2.749   Cond. No.                     9.04e+03\n",
      "==============================================================================\n",
      "\n",
      "Notes:\n",
      "[1] Standard Errors assume that the covariance matrix of the errors is correctly specified.\n",
      "[2] The condition number is large, 9.04e+03. This might indicate that there are\n",
      "strong multicollinearity or other numerical problems.\n"
     ]
    }
   ],
   "source": [
    "DID_STARTln = smf.ols(formula=\"lnY ~ time + treated + DID + NYHPI\", data=data_start).fit()\n",
    "print(DID_STARTln.summary())"
   ]
  },
  {
   "cell_type": "code",
   "execution_count": 77,
   "id": "75024b60",
   "metadata": {},
   "outputs": [
    {
     "data": {
      "text/plain": [
       "Intercept    17756.075212\n",
       "time          5583.678178\n",
       "treated       3579.965207\n",
       "DID           5496.316814\n",
       "NYHPI           28.695239\n",
       "dtype: float64"
      ]
     },
     "execution_count": 77,
     "metadata": {},
     "output_type": "execute_result"
    }
   ],
   "source": [
    "DID_START.bse"
   ]
  },
  {
   "cell_type": "code",
   "execution_count": null,
   "id": "ad33220b",
   "metadata": {},
   "outputs": [],
   "source": []
  }
 ],
 "metadata": {
  "kernelspec": {
   "display_name": "Python 3 (ipykernel)",
   "language": "python",
   "name": "python3"
  },
  "language_info": {
   "codemirror_mode": {
    "name": "ipython",
    "version": 3
   },
   "file_extension": ".py",
   "mimetype": "text/x-python",
   "name": "python",
   "nbconvert_exporter": "python",
   "pygments_lexer": "ipython3",
   "version": "3.9.7"
  }
 },
 "nbformat": 4,
 "nbformat_minor": 5
}
